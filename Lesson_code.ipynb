{
 "cells": [
  {
   "cell_type": "markdown",
   "id": "140fba5a",
   "metadata": {
    "tags": []
   },
   "source": [
    "<h1 align=\"center\">🐍 Python + Excel</h1>\n",
    "\n",
    "Мы будем использовать библиотеку **`xlwings`** для подключения к рабочей книге Excel.\n",
    "<br><br>\n",
    "**Xlwings** — это API Python с открытым исходным кодом для управления форматом файлов Excel. Используя API, вы можете автоматизировать Excel из Python для создания отчетов, написания UDF (пользовательских функций), написания макросов и удаленного управления Excel.\n",
    "\n",
    "    🔗 Ссылка на документацию: https://docs.xlwings.org/en/stable/index.html\n",
    "\n",
    "\n",
    "**GitHub ExcelPython:** https://github.com/ericremoreynolds/excelpython/blob/master/README.md\n",
    "\n",
    "    ExcelPython интегрирован в xlwings! В дальнейшем ExcelPython больше не будет активно поддерживаться, и дальнейшая разработка будет осуществляться в контексте xlwings.\n",
    "\n",
    "**GitHub xlwings:** https://github.com/xlwings/xlwings\n",
    "\n",
    "**Сайт продукта:** https://www.xlwings.org/"
   ]
  },
  {
   "cell_type": "markdown",
   "id": "780eac42-44d8-4876-8d41-a6a8b900d32e",
   "metadata": {
    "jp-MarkdownHeadingCollapsed": true,
    "tags": []
   },
   "source": [
    "## 🐣 Теоретический минимум по Python\n",
    "\n",
    "1. Области видимости переменных.\n",
    "\n",
    "    https://www.youtube.com/watch?v=TacyWpUF1Kk&ab_channel=selfedu\n",
    "\n",
    "\n",
    "2. Замыкания в Python\n",
    "\n",
    "    https://www.youtube.com/watch?v=sJF7OMNgLUs&ab_channel=selfedu\n",
    "\n",
    "3. Введение в декораторы функций\n",
    "\n",
    "    https://www.youtube.com/watch?v=v0qZPplzwUQ&t=321s&ab_channel=selfedu\n",
    "\n",
    "4. Типизация\n",
    "\n",
    "    https://youtu.be/dKxiHlZvULQ\n",
    "\n",
    "5. TypeAlias\n",
    "\n",
    "    https://youtu.be/xdRroK3WwJg"
   ]
  },
  {
   "cell_type": "markdown",
   "id": "f2db95ca-3e08-4e86-9610-d6d582fdd940",
   "metadata": {
    "tags": []
   },
   "source": [
    "## ➕ Доп материал\n",
    "\n",
    "1. Машинное обучение в Excel при помощи Python и PyXLL:\n",
    "\n",
    "    https://habr.com/ru/companies/skillfactory/articles/569520/\n",
    "\n",
    "2. Случайно наткнулся, но полезно:\n",
    "\n",
    "    https://proglib.io/p/paketnyy-api-obedinenie-zaprosov-s-pomoshchyu-asyncio-i-batch-api-2023-03-23\n",
    "\n",
    "3. Если не понятно что такое потоки и как это работает, то сюда:\n",
    "\n",
    "    https://youtu.be/JIp14T9bvvc\n",
    "\n",
    "4. OpenPyXL – это библиотека, используемая для чтения и записи файлов Excel 2010 xlsx/xlsm/xltx/xltm.\n",
    "\n",
    "    https://docs-python.ru/packages/modul-openpyxl/\n",
    "    \n",
    "https://www.xlslim.com/en-us/blogs/news/pyxll"
   ]
  },
  {
   "cell_type": "markdown",
   "id": "5cfda490",
   "metadata": {},
   "source": [
    "<h1 style=\"color:#008B8B\">1. Установка</h1>\n",
    "\n",
    "https://docs.xlwings.org/en/stable/addin.html#xlwings-addin\n",
    "\n",
    "**1. Установить Python 3.10.\\***\n",
    "\n",
    "* https://www.python.org/downloads/windows/ \n",
    "\n",
    "* Я использую Python 3.10.11\n",
    "\n",
    "**2. Создание venv**\n",
    "\n",
    "* ```python -m venv venv```\n",
    "\n",
    "* Как вариант, можно использовать Poetry: https://youtu.be/KOC0Gbo_0HY\n",
    "\n",
    "**2.1 Активация venv**\n",
    "\n",
    "* Чтобы начать пользоваться виртуальным окружением, необходимо его активировать:\n",
    "\n",
    "* ```venv\\Scripts\\activate.bat```  - для Windows;\n",
    "\n",
    "* ```source venv/bin/activate``` - для Linux и MacOS;\n",
    "\n",
    "* https://pythonchik.ru/okruzhenie-i-pakety/virtualnoe-okruzhenie-python-venv\n",
    "\n",
    "**3. Установка пакета и надстройки**\n",
    "\n",
    "* Предварительно стоит убедиться, что виртуальное окружение было активировано!\n",
    "\n",
    "* https://docs.xlwings.org/en/stable/installation.html\n",
    "\n",
    "* ```pip install xlwings```\n",
    "\n",
    "* Enable Trust access to the VBA project object model under File > Options > Trust Center > Trust Center Settings > Macro Settings. You only need to do this once. Also, this is only required for importing the functions, i.e. end users won’t need to bother about this.\n",
    "\n",
    "\n",
    "* ```xlwings addin install```\n",
    "\n",
    "* ```xlwings quickstart titanic```"
   ]
  },
  {
   "cell_type": "markdown",
   "id": "5eb9cf70-024e-446a-9301-64a40e77d71e",
   "metadata": {},
   "source": [
    "# `(venv) C:\\Users\\bimas\\OneDrive\\Desktop\\Excel>`"
   ]
  },
  {
   "cell_type": "markdown",
   "id": "183ca48c",
   "metadata": {},
   "source": [
    "<h1 style=\"color:#008B8B\">2. Работа с данными. Возможности библиотеки</h1>\n",
    "\n",
    "https://www.kaggle.com/competitions/titanic/data"
   ]
  },
  {
   "cell_type": "code",
   "execution_count": 1,
   "id": "d5e674b8-9de5-4c16-8305-08819f7d3d22",
   "metadata": {},
   "outputs": [
    {
     "name": "stdout",
     "output_type": "stream",
     "text": [
      "Collecting pandas\n",
      "  Using cached pandas-2.0.1-cp310-cp310-win_amd64.whl (10.7 MB)\n",
      "Collecting pytz>=2020.1\n",
      "  Using cached pytz-2023.3-py2.py3-none-any.whl (502 kB)\n",
      "Collecting tzdata>=2022.1\n",
      "  Using cached tzdata-2023.3-py2.py3-none-any.whl (341 kB)\n",
      "Collecting numpy>=1.21.0\n",
      "  Using cached numpy-1.24.3-cp310-cp310-win_amd64.whl (14.8 MB)\n",
      "Requirement already satisfied: python-dateutil>=2.8.2 in d:\\excel\\venvv\\lib\\site-packages (from pandas) (2.8.2)\n",
      "Requirement already satisfied: six>=1.5 in d:\\excel\\venvv\\lib\\site-packages (from python-dateutil>=2.8.2->pandas) (1.16.0)\n",
      "Installing collected packages: pytz, tzdata, numpy, pandas\n",
      "Successfully installed numpy-1.24.3 pandas-2.0.1 pytz-2023.3 tzdata-2023.3\n"
     ]
    },
    {
     "name": "stderr",
     "output_type": "stream",
     "text": [
      "\n",
      "[notice] A new release of pip is available: 23.0.1 -> 23.1.2\n",
      "[notice] To update, run: python.exe -m pip install --upgrade pip\n"
     ]
    }
   ],
   "source": [
    "!pip install pandas"
   ]
  },
  {
   "cell_type": "code",
   "execution_count": 2,
   "id": "f356b192",
   "metadata": {
    "tags": []
   },
   "outputs": [],
   "source": [
    "import xlwings as xw\n",
    "import pandas as pd"
   ]
  },
  {
   "cell_type": "code",
   "execution_count": 3,
   "id": "39b807fb",
   "metadata": {
    "tags": []
   },
   "outputs": [
    {
     "name": "stderr",
     "output_type": "stream",
     "text": [
      "\"ls\" ­Ґ пў«пҐвбп ў­гваҐ­­Ґ© Ё«Ё ў­Ґи­Ґ©\n",
      "Є®¬ ­¤®©, ЁбЇ®«­пҐ¬®© Їа®Ја ¬¬®© Ё«Ё Ї ЄҐв­л¬ д ©«®¬.\n"
     ]
    }
   ],
   "source": [
    "!ls"
   ]
  },
  {
   "cell_type": "markdown",
   "id": "dc8c1665",
   "metadata": {},
   "source": [
    "# 2.1 Работа с книгами"
   ]
  },
  {
   "cell_type": "markdown",
   "id": "f89b9e3e-ac60-48bb-b23a-2baaf1485424",
   "metadata": {},
   "source": [
    "|  | xw.Book |\n",
    "| :- | :- |\n",
    "| New Book | xw.Book() |\n",
    "| Unsaved book | xw.Book('Book1') |\n",
    "| Book by (full)name | xw.Book(r'C:/path/to/file.xlsx')|\n"
   ]
  },
  {
   "cell_type": "code",
   "execution_count": 61,
   "id": "5c7c932a-7c89-43f8-aa73-348cf53b2edb",
   "metadata": {
    "tags": []
   },
   "outputs": [
    {
     "data": {
      "text/plain": [
       "['train', 'Sheet1', 'Тестовый лист1', '_xlwings.conf']"
      ]
     },
     "execution_count": 61,
     "metadata": {},
     "output_type": "execute_result"
    }
   ],
   "source": [
    "# Создание объекта книги\n",
    "wb = xw.Book(\"titanic/titanic.xlsm\")\n",
    "wb.sheet_names"
   ]
  },
  {
   "cell_type": "code",
   "execution_count": 5,
   "id": "7e66f7fb-c482-4d0e-86ce-da6f99b7c13b",
   "metadata": {
    "tags": []
   },
   "outputs": [],
   "source": [
    "# Закрыть рабочую книгу\n",
    "# wb.close()"
   ]
  },
  {
   "cell_type": "markdown",
   "id": "8145c4fc-e906-459e-9a22-d5bc67b422e6",
   "metadata": {},
   "source": [
    "# 2.2 Листы книги"
   ]
  },
  {
   "cell_type": "code",
   "execution_count": 6,
   "id": "d11cc319-7866-42ed-89eb-d61516957e13",
   "metadata": {
    "tags": []
   },
   "outputs": [],
   "source": [
    "# Добавим новый лист\n",
    "sht1 = wb.sheets.add(name='Тестовый лист1', after=wb.sheets[\"Sheet1\"].name)"
   ]
  },
  {
   "cell_type": "code",
   "execution_count": 7,
   "id": "e162b749-7e34-44b7-b4a3-c441546dfbc3",
   "metadata": {
    "tags": []
   },
   "outputs": [
    {
     "data": {
      "text/plain": [
       "[['Hello xlwings!',\n",
       "  'Survived',\n",
       "  'Pclass',\n",
       "  'Name',\n",
       "  'Sex',\n",
       "  'Age',\n",
       "  'SibSp',\n",
       "  'Parch',\n",
       "  'Ticket',\n",
       "  'Fare',\n",
       "  'Cabin',\n",
       "  'Embarked'],\n",
       " [1.0,\n",
       "  0.0,\n",
       "  3.0,\n",
       "  'Braund, Mr. Owen Harris',\n",
       "  'male',\n",
       "  '22',\n",
       "  1.0,\n",
       "  0.0,\n",
       "  'A/5 21171',\n",
       "  '7.25',\n",
       "  None,\n",
       "  'S']]"
      ]
     },
     "execution_count": 7,
     "metadata": {},
     "output_type": "execute_result"
    }
   ],
   "source": [
    "# Получение занчений из диапазона\n",
    "# в options указать expand=\"table\" - автоматически считает диапозон\n",
    "wb.sheets['train'].range(\"A1:L892\").value[:1]\n",
    "wb.sheets[0].range(\"A1:L892\").value[:2]"
   ]
  },
  {
   "cell_type": "code",
   "execution_count": 8,
   "id": "ceb70578",
   "metadata": {
    "tags": []
   },
   "outputs": [
    {
     "data": {
      "text/plain": [
       "[[1.0,\n",
       "  0.0,\n",
       "  3.0,\n",
       "  'Braund, Mr. Owen Harris',\n",
       "  'male',\n",
       "  '22',\n",
       "  1.0,\n",
       "  0.0,\n",
       "  'A/5 21171',\n",
       "  '7.25',\n",
       "  None,\n",
       "  'S']]"
      ]
     },
     "execution_count": 8,
     "metadata": {},
     "output_type": "execute_result"
    }
   ],
   "source": [
    "# Обращение к таблице/именованному диапазону листа\n",
    "wb.sheets[0]['Таблица_train'].value[:1]\n",
    "wb.sheets[0].range('Таблица_train').value[:1]"
   ]
  },
  {
   "cell_type": "code",
   "execution_count": 21,
   "id": "82be1e3f-7675-45f0-80a3-b68f5d010d89",
   "metadata": {
    "tags": []
   },
   "outputs": [],
   "source": [
    "# Запись данных в ячейку A1\n",
    "wb.sheets[1].range(\"A1\").value = 10"
   ]
  },
  {
   "cell_type": "code",
   "execution_count": 10,
   "id": "04d79d00-c7d0-4d2f-9d9d-4da505c9ca83",
   "metadata": {
    "tags": []
   },
   "outputs": [
    {
     "data": {
      "text/plain": [
       "4"
      ]
     },
     "execution_count": 10,
     "metadata": {},
     "output_type": "execute_result"
    }
   ],
   "source": [
    "# Количество листов\n",
    "wb.sheets.count"
   ]
  },
  {
   "cell_type": "code",
   "execution_count": 11,
   "id": "a7944d57-b3ee-4f3c-a9ca-0cd09110cc28",
   "metadata": {
    "tags": []
   },
   "outputs": [
    {
     "data": {
      "text/plain": [
       "<Sheet [titanic.xlsm]Тестовый лист1>"
      ]
     },
     "execution_count": 11,
     "metadata": {},
     "output_type": "execute_result"
    }
   ],
   "source": [
    "# Получить активный лист\n",
    "wb.sheets.active"
   ]
  },
  {
   "cell_type": "markdown",
   "id": "76c1fbd8",
   "metadata": {},
   "source": [
    "# 2.3 Загрузка/выгрузка данных"
   ]
  },
  {
   "cell_type": "markdown",
   "id": "7693b4a6-6d4e-4451-89c6-d803d4f1000c",
   "metadata": {},
   "source": [
    "https://docs.xlwings.org/en/latest/converters.html"
   ]
  },
  {
   "cell_type": "code",
   "execution_count": 13,
   "id": "22488967",
   "metadata": {
    "tags": []
   },
   "outputs": [
    {
     "data": {
      "text/html": [
       "<div>\n",
       "<style scoped>\n",
       "    .dataframe tbody tr th:only-of-type {\n",
       "        vertical-align: middle;\n",
       "    }\n",
       "\n",
       "    .dataframe tbody tr th {\n",
       "        vertical-align: top;\n",
       "    }\n",
       "\n",
       "    .dataframe thead th {\n",
       "        text-align: right;\n",
       "    }\n",
       "</style>\n",
       "<table border=\"1\" class=\"dataframe\">\n",
       "  <thead>\n",
       "    <tr style=\"text-align: right;\">\n",
       "      <th></th>\n",
       "      <th>Survived</th>\n",
       "      <th>Pclass</th>\n",
       "      <th>Name</th>\n",
       "      <th>Sex</th>\n",
       "      <th>Age</th>\n",
       "      <th>SibSp</th>\n",
       "      <th>Parch</th>\n",
       "      <th>Ticket</th>\n",
       "      <th>Fare</th>\n",
       "      <th>Cabin</th>\n",
       "      <th>Embarked</th>\n",
       "    </tr>\n",
       "    <tr>\n",
       "      <th>Hello xlwings!</th>\n",
       "      <th></th>\n",
       "      <th></th>\n",
       "      <th></th>\n",
       "      <th></th>\n",
       "      <th></th>\n",
       "      <th></th>\n",
       "      <th></th>\n",
       "      <th></th>\n",
       "      <th></th>\n",
       "      <th></th>\n",
       "      <th></th>\n",
       "    </tr>\n",
       "  </thead>\n",
       "  <tbody>\n",
       "    <tr>\n",
       "      <th>1.0</th>\n",
       "      <td>0.0</td>\n",
       "      <td>3.0</td>\n",
       "      <td>Braund, Mr. Owen Harris</td>\n",
       "      <td>male</td>\n",
       "      <td>22</td>\n",
       "      <td>1.0</td>\n",
       "      <td>0.0</td>\n",
       "      <td>A/5 21171</td>\n",
       "      <td>7.25</td>\n",
       "      <td>None</td>\n",
       "      <td>S</td>\n",
       "    </tr>\n",
       "    <tr>\n",
       "      <th>2.0</th>\n",
       "      <td>1.0</td>\n",
       "      <td>1.0</td>\n",
       "      <td>Cumings, Mrs. John Bradley (Florence Briggs Th...</td>\n",
       "      <td>female</td>\n",
       "      <td>38</td>\n",
       "      <td>1.0</td>\n",
       "      <td>0.0</td>\n",
       "      <td>PC 17599</td>\n",
       "      <td>71.2833</td>\n",
       "      <td>C85</td>\n",
       "      <td>C</td>\n",
       "    </tr>\n",
       "    <tr>\n",
       "      <th>3.0</th>\n",
       "      <td>1.0</td>\n",
       "      <td>3.0</td>\n",
       "      <td>Heikkinen, Miss. Laina</td>\n",
       "      <td>female</td>\n",
       "      <td>26</td>\n",
       "      <td>0.0</td>\n",
       "      <td>0.0</td>\n",
       "      <td>STON/O2. 3101282</td>\n",
       "      <td>7.925</td>\n",
       "      <td>None</td>\n",
       "      <td>S</td>\n",
       "    </tr>\n",
       "    <tr>\n",
       "      <th>4.0</th>\n",
       "      <td>1.0</td>\n",
       "      <td>1.0</td>\n",
       "      <td>Futrelle, Mrs. Jacques Heath (Lily May Peel)</td>\n",
       "      <td>female</td>\n",
       "      <td>35</td>\n",
       "      <td>1.0</td>\n",
       "      <td>0.0</td>\n",
       "      <td>113803</td>\n",
       "      <td>53.1</td>\n",
       "      <td>C123</td>\n",
       "      <td>S</td>\n",
       "    </tr>\n",
       "    <tr>\n",
       "      <th>5.0</th>\n",
       "      <td>0.0</td>\n",
       "      <td>3.0</td>\n",
       "      <td>Allen, Mr. William Henry</td>\n",
       "      <td>male</td>\n",
       "      <td>35</td>\n",
       "      <td>0.0</td>\n",
       "      <td>0.0</td>\n",
       "      <td>373450</td>\n",
       "      <td>8.05</td>\n",
       "      <td>None</td>\n",
       "      <td>S</td>\n",
       "    </tr>\n",
       "    <tr>\n",
       "      <th>...</th>\n",
       "      <td>...</td>\n",
       "      <td>...</td>\n",
       "      <td>...</td>\n",
       "      <td>...</td>\n",
       "      <td>...</td>\n",
       "      <td>...</td>\n",
       "      <td>...</td>\n",
       "      <td>...</td>\n",
       "      <td>...</td>\n",
       "      <td>...</td>\n",
       "      <td>...</td>\n",
       "    </tr>\n",
       "    <tr>\n",
       "      <th>887.0</th>\n",
       "      <td>0.0</td>\n",
       "      <td>2.0</td>\n",
       "      <td>Montvila, Rev. Juozas</td>\n",
       "      <td>male</td>\n",
       "      <td>27</td>\n",
       "      <td>0.0</td>\n",
       "      <td>0.0</td>\n",
       "      <td>211536</td>\n",
       "      <td>13</td>\n",
       "      <td>None</td>\n",
       "      <td>S</td>\n",
       "    </tr>\n",
       "    <tr>\n",
       "      <th>888.0</th>\n",
       "      <td>1.0</td>\n",
       "      <td>1.0</td>\n",
       "      <td>Graham, Miss. Margaret Edith</td>\n",
       "      <td>female</td>\n",
       "      <td>19</td>\n",
       "      <td>0.0</td>\n",
       "      <td>0.0</td>\n",
       "      <td>112053</td>\n",
       "      <td>30</td>\n",
       "      <td>B42</td>\n",
       "      <td>S</td>\n",
       "    </tr>\n",
       "    <tr>\n",
       "      <th>889.0</th>\n",
       "      <td>0.0</td>\n",
       "      <td>3.0</td>\n",
       "      <td>Johnston, Miss. Catherine Helen \"Carrie\"</td>\n",
       "      <td>female</td>\n",
       "      <td>None</td>\n",
       "      <td>1.0</td>\n",
       "      <td>2.0</td>\n",
       "      <td>W./C. 6607</td>\n",
       "      <td>23.45</td>\n",
       "      <td>None</td>\n",
       "      <td>S</td>\n",
       "    </tr>\n",
       "    <tr>\n",
       "      <th>890.0</th>\n",
       "      <td>1.0</td>\n",
       "      <td>1.0</td>\n",
       "      <td>Behr, Mr. Karl Howell</td>\n",
       "      <td>male</td>\n",
       "      <td>26</td>\n",
       "      <td>0.0</td>\n",
       "      <td>0.0</td>\n",
       "      <td>111369</td>\n",
       "      <td>30</td>\n",
       "      <td>C148</td>\n",
       "      <td>C</td>\n",
       "    </tr>\n",
       "    <tr>\n",
       "      <th>891.0</th>\n",
       "      <td>0.0</td>\n",
       "      <td>3.0</td>\n",
       "      <td>Dooley, Mr. Patrick</td>\n",
       "      <td>male</td>\n",
       "      <td>32</td>\n",
       "      <td>0.0</td>\n",
       "      <td>0.0</td>\n",
       "      <td>370376</td>\n",
       "      <td>7.75</td>\n",
       "      <td>None</td>\n",
       "      <td>Q</td>\n",
       "    </tr>\n",
       "  </tbody>\n",
       "</table>\n",
       "<p>891 rows × 11 columns</p>\n",
       "</div>"
      ],
      "text/plain": [
       "                Survived  Pclass   \n",
       "Hello xlwings!                     \n",
       "1.0                  0.0     3.0  \\\n",
       "2.0                  1.0     1.0   \n",
       "3.0                  1.0     3.0   \n",
       "4.0                  1.0     1.0   \n",
       "5.0                  0.0     3.0   \n",
       "...                  ...     ...   \n",
       "887.0                0.0     2.0   \n",
       "888.0                1.0     1.0   \n",
       "889.0                0.0     3.0   \n",
       "890.0                1.0     1.0   \n",
       "891.0                0.0     3.0   \n",
       "\n",
       "                                                             Name     Sex   \n",
       "Hello xlwings!                                                              \n",
       "1.0                                       Braund, Mr. Owen Harris    male  \\\n",
       "2.0             Cumings, Mrs. John Bradley (Florence Briggs Th...  female   \n",
       "3.0                                        Heikkinen, Miss. Laina  female   \n",
       "4.0                  Futrelle, Mrs. Jacques Heath (Lily May Peel)  female   \n",
       "5.0                                      Allen, Mr. William Henry    male   \n",
       "...                                                           ...     ...   \n",
       "887.0                                       Montvila, Rev. Juozas    male   \n",
       "888.0                                Graham, Miss. Margaret Edith  female   \n",
       "889.0                    Johnston, Miss. Catherine Helen \"Carrie\"  female   \n",
       "890.0                                       Behr, Mr. Karl Howell    male   \n",
       "891.0                                         Dooley, Mr. Patrick    male   \n",
       "\n",
       "                 Age  SibSp  Parch            Ticket     Fare Cabin Embarked  \n",
       "Hello xlwings!                                                                \n",
       "1.0               22    1.0    0.0         A/5 21171     7.25  None        S  \n",
       "2.0               38    1.0    0.0          PC 17599  71.2833   C85        C  \n",
       "3.0               26    0.0    0.0  STON/O2. 3101282    7.925  None        S  \n",
       "4.0               35    1.0    0.0            113803     53.1  C123        S  \n",
       "5.0               35    0.0    0.0            373450     8.05  None        S  \n",
       "...              ...    ...    ...               ...      ...   ...      ...  \n",
       "887.0             27    0.0    0.0            211536       13  None        S  \n",
       "888.0             19    0.0    0.0            112053       30   B42        S  \n",
       "889.0           None    1.0    2.0        W./C. 6607    23.45  None        S  \n",
       "890.0             26    0.0    0.0            111369       30  C148        C  \n",
       "891.0             32    0.0    0.0            370376     7.75  None        Q  \n",
       "\n",
       "[891 rows x 11 columns]"
      ]
     },
     "execution_count": 13,
     "metadata": {},
     "output_type": "execute_result"
    }
   ],
   "source": [
    "wb.sheets[0].range(\"A1\").expand().options(pd.DataFrame).value"
   ]
  },
  {
   "cell_type": "markdown",
   "id": "1244948c-a900-49ec-a5bc-d498fa2b766c",
   "metadata": {},
   "source": [
    "`pd.read_excel()`\n",
    "\n",
    "https://pandas.pydata.org/docs/reference/api/pandas.read_csv.html"
   ]
  },
  {
   "cell_type": "code",
   "execution_count": 28,
   "id": "3e92d1ff",
   "metadata": {
    "tags": []
   },
   "outputs": [
    {
     "data": {
      "text/html": [
       "<div>\n",
       "<style scoped>\n",
       "    .dataframe tbody tr th:only-of-type {\n",
       "        vertical-align: middle;\n",
       "    }\n",
       "\n",
       "    .dataframe tbody tr th {\n",
       "        vertical-align: top;\n",
       "    }\n",
       "\n",
       "    .dataframe thead th {\n",
       "        text-align: right;\n",
       "    }\n",
       "</style>\n",
       "<table border=\"1\" class=\"dataframe\">\n",
       "  <thead>\n",
       "    <tr style=\"text-align: right;\">\n",
       "      <th></th>\n",
       "      <th>PassengerId</th>\n",
       "      <th>Survived</th>\n",
       "      <th>Pclass</th>\n",
       "      <th>Name</th>\n",
       "      <th>Sex</th>\n",
       "      <th>Age</th>\n",
       "      <th>SibSp</th>\n",
       "      <th>Parch</th>\n",
       "      <th>Ticket</th>\n",
       "      <th>Fare</th>\n",
       "      <th>Cabin</th>\n",
       "      <th>Embarked</th>\n",
       "    </tr>\n",
       "  </thead>\n",
       "  <tbody>\n",
       "    <tr>\n",
       "      <th>0</th>\n",
       "      <td>1</td>\n",
       "      <td>0</td>\n",
       "      <td>3</td>\n",
       "      <td>Braund, Mr. Owen Harris</td>\n",
       "      <td>male</td>\n",
       "      <td>22.0</td>\n",
       "      <td>1</td>\n",
       "      <td>0</td>\n",
       "      <td>A/5 21171</td>\n",
       "      <td>7.2500</td>\n",
       "      <td>NaN</td>\n",
       "      <td>S</td>\n",
       "    </tr>\n",
       "    <tr>\n",
       "      <th>1</th>\n",
       "      <td>2</td>\n",
       "      <td>1</td>\n",
       "      <td>1</td>\n",
       "      <td>Cumings, Mrs. John Bradley (Florence Briggs Th...</td>\n",
       "      <td>female</td>\n",
       "      <td>38.0</td>\n",
       "      <td>1</td>\n",
       "      <td>0</td>\n",
       "      <td>PC 17599</td>\n",
       "      <td>71.2833</td>\n",
       "      <td>C85</td>\n",
       "      <td>C</td>\n",
       "    </tr>\n",
       "    <tr>\n",
       "      <th>2</th>\n",
       "      <td>3</td>\n",
       "      <td>1</td>\n",
       "      <td>3</td>\n",
       "      <td>Heikkinen, Miss. Laina</td>\n",
       "      <td>female</td>\n",
       "      <td>26.0</td>\n",
       "      <td>0</td>\n",
       "      <td>0</td>\n",
       "      <td>STON/O2. 3101282</td>\n",
       "      <td>7.9250</td>\n",
       "      <td>NaN</td>\n",
       "      <td>S</td>\n",
       "    </tr>\n",
       "    <tr>\n",
       "      <th>3</th>\n",
       "      <td>4</td>\n",
       "      <td>1</td>\n",
       "      <td>1</td>\n",
       "      <td>Futrelle, Mrs. Jacques Heath (Lily May Peel)</td>\n",
       "      <td>female</td>\n",
       "      <td>35.0</td>\n",
       "      <td>1</td>\n",
       "      <td>0</td>\n",
       "      <td>113803</td>\n",
       "      <td>53.1000</td>\n",
       "      <td>C123</td>\n",
       "      <td>S</td>\n",
       "    </tr>\n",
       "    <tr>\n",
       "      <th>4</th>\n",
       "      <td>5</td>\n",
       "      <td>0</td>\n",
       "      <td>3</td>\n",
       "      <td>Allen, Mr. William Henry</td>\n",
       "      <td>male</td>\n",
       "      <td>35.0</td>\n",
       "      <td>0</td>\n",
       "      <td>0</td>\n",
       "      <td>373450</td>\n",
       "      <td>8.0500</td>\n",
       "      <td>NaN</td>\n",
       "      <td>S</td>\n",
       "    </tr>\n",
       "  </tbody>\n",
       "</table>\n",
       "</div>"
      ],
      "text/plain": [
       "   PassengerId  Survived  Pclass   \n",
       "0            1         0       3  \\\n",
       "1            2         1       1   \n",
       "2            3         1       3   \n",
       "3            4         1       1   \n",
       "4            5         0       3   \n",
       "\n",
       "                                                Name     Sex   Age  SibSp   \n",
       "0                            Braund, Mr. Owen Harris    male  22.0      1  \\\n",
       "1  Cumings, Mrs. John Bradley (Florence Briggs Th...  female  38.0      1   \n",
       "2                             Heikkinen, Miss. Laina  female  26.0      0   \n",
       "3       Futrelle, Mrs. Jacques Heath (Lily May Peel)  female  35.0      1   \n",
       "4                           Allen, Mr. William Henry    male  35.0      0   \n",
       "\n",
       "   Parch            Ticket     Fare Cabin Embarked  \n",
       "0      0         A/5 21171   7.2500   NaN        S  \n",
       "1      0          PC 17599  71.2833   C85        C  \n",
       "2      0  STON/O2. 3101282   7.9250   NaN        S  \n",
       "3      0            113803  53.1000  C123        S  \n",
       "4      0            373450   8.0500   NaN        S  "
      ]
     },
     "execution_count": 28,
     "metadata": {},
     "output_type": "execute_result"
    }
   ],
   "source": [
    "df = pd.read_csv(\"titanic/train.csv\")\n",
    "df.head()"
   ]
  },
  {
   "cell_type": "markdown",
   "id": "fc51946d-6ad5-4cf4-9df3-86b4d61c1d0a",
   "metadata": {
    "tags": []
   },
   "source": [
    "`pd.read_excel()`\n",
    "\n",
    "https://pandas.pydata.org/docs/reference/api/pandas.read_excel.html?highlight=read_excel#pandas.read_excel"
   ]
  },
  {
   "cell_type": "code",
   "execution_count": 16,
   "id": "f3049c22-9cea-423d-b82c-5ea663128ef1",
   "metadata": {},
   "outputs": [
    {
     "name": "stdout",
     "output_type": "stream",
     "text": [
      "Collecting openpyxl\n",
      "  Using cached openpyxl-3.1.2-py2.py3-none-any.whl (249 kB)\n",
      "Collecting et-xmlfile\n",
      "  Using cached et_xmlfile-1.1.0-py3-none-any.whl (4.7 kB)\n",
      "Installing collected packages: et-xmlfile, openpyxl\n",
      "Successfully installed et-xmlfile-1.1.0 openpyxl-3.1.2\n"
     ]
    },
    {
     "name": "stderr",
     "output_type": "stream",
     "text": [
      "\n",
      "[notice] A new release of pip is available: 23.0.1 -> 23.1.2\n",
      "[notice] To update, run: python.exe -m pip install --upgrade pip\n"
     ]
    }
   ],
   "source": [
    "!pip install openpyxl"
   ]
  },
  {
   "cell_type": "code",
   "execution_count": 17,
   "id": "8304f31c",
   "metadata": {},
   "outputs": [
    {
     "data": {
      "text/html": [
       "<div>\n",
       "<style scoped>\n",
       "    .dataframe tbody tr th:only-of-type {\n",
       "        vertical-align: middle;\n",
       "    }\n",
       "\n",
       "    .dataframe tbody tr th {\n",
       "        vertical-align: top;\n",
       "    }\n",
       "\n",
       "    .dataframe thead th {\n",
       "        text-align: right;\n",
       "    }\n",
       "</style>\n",
       "<table border=\"1\" class=\"dataframe\">\n",
       "  <thead>\n",
       "    <tr style=\"text-align: right;\">\n",
       "      <th></th>\n",
       "      <th>Hello xlwings!</th>\n",
       "      <th>Survived</th>\n",
       "      <th>Pclass</th>\n",
       "      <th>Name</th>\n",
       "      <th>Sex</th>\n",
       "      <th>Age</th>\n",
       "      <th>SibSp</th>\n",
       "      <th>Parch</th>\n",
       "      <th>Ticket</th>\n",
       "      <th>Fare</th>\n",
       "      <th>Cabin</th>\n",
       "      <th>Embarked</th>\n",
       "      <th>Unnamed: 12</th>\n",
       "      <th>Unnamed: 13</th>\n",
       "      <th>Unnamed: 14</th>\n",
       "      <th>Unnamed: 15</th>\n",
       "    </tr>\n",
       "  </thead>\n",
       "  <tbody>\n",
       "    <tr>\n",
       "      <th>0</th>\n",
       "      <td>1</td>\n",
       "      <td>0</td>\n",
       "      <td>3</td>\n",
       "      <td>Braund, Mr. Owen Harris</td>\n",
       "      <td>male</td>\n",
       "      <td>22.0</td>\n",
       "      <td>1</td>\n",
       "      <td>0</td>\n",
       "      <td>A/5 21171</td>\n",
       "      <td>7.2500</td>\n",
       "      <td>NaN</td>\n",
       "      <td>S</td>\n",
       "      <td>NaN</td>\n",
       "      <td>NaN</td>\n",
       "      <td>NaN</td>\n",
       "      <td>NaN</td>\n",
       "    </tr>\n",
       "    <tr>\n",
       "      <th>1</th>\n",
       "      <td>2</td>\n",
       "      <td>1</td>\n",
       "      <td>1</td>\n",
       "      <td>Cumings, Mrs. John Bradley (Florence Briggs Th...</td>\n",
       "      <td>female</td>\n",
       "      <td>38.0</td>\n",
       "      <td>1</td>\n",
       "      <td>0</td>\n",
       "      <td>PC 17599</td>\n",
       "      <td>71.2833</td>\n",
       "      <td>C85</td>\n",
       "      <td>C</td>\n",
       "      <td>NaN</td>\n",
       "      <td>NaN</td>\n",
       "      <td>NaN</td>\n",
       "      <td>NaN</td>\n",
       "    </tr>\n",
       "    <tr>\n",
       "      <th>2</th>\n",
       "      <td>3</td>\n",
       "      <td>1</td>\n",
       "      <td>3</td>\n",
       "      <td>Heikkinen, Miss. Laina</td>\n",
       "      <td>female</td>\n",
       "      <td>26.0</td>\n",
       "      <td>0</td>\n",
       "      <td>0</td>\n",
       "      <td>STON/O2. 3101282</td>\n",
       "      <td>7.9250</td>\n",
       "      <td>NaN</td>\n",
       "      <td>S</td>\n",
       "      <td>NaN</td>\n",
       "      <td>NaN</td>\n",
       "      <td>NaN</td>\n",
       "      <td>NaN</td>\n",
       "    </tr>\n",
       "    <tr>\n",
       "      <th>3</th>\n",
       "      <td>4</td>\n",
       "      <td>1</td>\n",
       "      <td>1</td>\n",
       "      <td>Futrelle, Mrs. Jacques Heath (Lily May Peel)</td>\n",
       "      <td>female</td>\n",
       "      <td>35.0</td>\n",
       "      <td>1</td>\n",
       "      <td>0</td>\n",
       "      <td>113803</td>\n",
       "      <td>53.1000</td>\n",
       "      <td>C123</td>\n",
       "      <td>S</td>\n",
       "      <td>NaN</td>\n",
       "      <td>NaN</td>\n",
       "      <td>NaN</td>\n",
       "      <td>NaN</td>\n",
       "    </tr>\n",
       "    <tr>\n",
       "      <th>4</th>\n",
       "      <td>5</td>\n",
       "      <td>0</td>\n",
       "      <td>3</td>\n",
       "      <td>Allen, Mr. William Henry</td>\n",
       "      <td>male</td>\n",
       "      <td>35.0</td>\n",
       "      <td>0</td>\n",
       "      <td>0</td>\n",
       "      <td>373450</td>\n",
       "      <td>8.0500</td>\n",
       "      <td>NaN</td>\n",
       "      <td>S</td>\n",
       "      <td>NaN</td>\n",
       "      <td>NaN</td>\n",
       "      <td>NaN</td>\n",
       "      <td>NaN</td>\n",
       "    </tr>\n",
       "  </tbody>\n",
       "</table>\n",
       "</div>"
      ],
      "text/plain": [
       "   Hello xlwings!  Survived  Pclass   \n",
       "0               1         0       3  \\\n",
       "1               2         1       1   \n",
       "2               3         1       3   \n",
       "3               4         1       1   \n",
       "4               5         0       3   \n",
       "\n",
       "                                                Name     Sex   Age  SibSp   \n",
       "0                            Braund, Mr. Owen Harris    male  22.0      1  \\\n",
       "1  Cumings, Mrs. John Bradley (Florence Briggs Th...  female  38.0      1   \n",
       "2                             Heikkinen, Miss. Laina  female  26.0      0   \n",
       "3       Futrelle, Mrs. Jacques Heath (Lily May Peel)  female  35.0      1   \n",
       "4                           Allen, Mr. William Henry    male  35.0      0   \n",
       "\n",
       "   Parch            Ticket     Fare Cabin Embarked  Unnamed: 12  Unnamed: 13   \n",
       "0      0         A/5 21171   7.2500   NaN        S          NaN          NaN  \\\n",
       "1      0          PC 17599  71.2833   C85        C          NaN          NaN   \n",
       "2      0  STON/O2. 3101282   7.9250   NaN        S          NaN          NaN   \n",
       "3      0            113803  53.1000  C123        S          NaN          NaN   \n",
       "4      0            373450   8.0500   NaN        S          NaN          NaN   \n",
       "\n",
       "   Unnamed: 14  Unnamed: 15  \n",
       "0          NaN          NaN  \n",
       "1          NaN          NaN  \n",
       "2          NaN          NaN  \n",
       "3          NaN          NaN  \n",
       "4          NaN          NaN  "
      ]
     },
     "execution_count": 17,
     "metadata": {},
     "output_type": "execute_result"
    }
   ],
   "source": [
    "df = pd.read_excel(\"titanic/titanic.xlsm\", sheet_name=\"train\")\n",
    "df.head()"
   ]
  },
  {
   "cell_type": "markdown",
   "id": "68326021-0dbd-4c68-86ea-3ace521e0004",
   "metadata": {},
   "source": [
    "# 2.4 Formatter\n",
    "\n",
    "https://docs.xlwings.org/en/latest/converters.html"
   ]
  },
  {
   "cell_type": "code",
   "execution_count": 26,
   "id": "62b65cf4-fd0b-4ed4-b405-8910ff3a3112",
   "metadata": {
    "tags": []
   },
   "outputs": [],
   "source": [
    "def table(rng: xw.Range, df: pd.DataFrame):\n",
    "    \"\"\"This is the formatter function\"\"\"\n",
    "    # Header\n",
    "    rng[0, :].color = \"#A9D08E\"\n",
    "\n",
    "    # Rows\n",
    "    for ix, row in enumerate(rng.rows[1:]):\n",
    "        if ix % 2 == 0:\n",
    "            row.color = \"#D0CECE\"  # Even rows\n",
    "\n",
    "    # Columns\n",
    "    for ix, col in enumerate(df.columns):\n",
    "        if \"two\" in col:\n",
    "            rng[1:, ix].number_format = \"0,00%\"\n",
    "\n",
    "            \n",
    "df = pd.DataFrame(data={\"one\": [1, 2, 3, 4], \"two\": [5, 6, 7, 8]})\n",
    "wb.sheets[1][\"A1\"].options(formatter=table, index=False).value = df"
   ]
  },
  {
   "cell_type": "code",
   "execution_count": 29,
   "id": "40874150-1527-4301-be45-7e5c9e9063c2",
   "metadata": {},
   "outputs": [
    {
     "data": {
      "text/html": [
       "<div>\n",
       "<style scoped>\n",
       "    .dataframe tbody tr th:only-of-type {\n",
       "        vertical-align: middle;\n",
       "    }\n",
       "\n",
       "    .dataframe tbody tr th {\n",
       "        vertical-align: top;\n",
       "    }\n",
       "\n",
       "    .dataframe thead th {\n",
       "        text-align: right;\n",
       "    }\n",
       "</style>\n",
       "<table border=\"1\" class=\"dataframe\">\n",
       "  <thead>\n",
       "    <tr style=\"text-align: right;\">\n",
       "      <th></th>\n",
       "      <th>PassengerId</th>\n",
       "      <th>Survived</th>\n",
       "      <th>Pclass</th>\n",
       "      <th>Name</th>\n",
       "      <th>Sex</th>\n",
       "      <th>Age</th>\n",
       "      <th>SibSp</th>\n",
       "      <th>Parch</th>\n",
       "      <th>Ticket</th>\n",
       "      <th>Fare</th>\n",
       "      <th>Cabin</th>\n",
       "      <th>Embarked</th>\n",
       "    </tr>\n",
       "  </thead>\n",
       "  <tbody>\n",
       "    <tr>\n",
       "      <th>0</th>\n",
       "      <td>1</td>\n",
       "      <td>0</td>\n",
       "      <td>3</td>\n",
       "      <td>Braund, Mr. Owen Harris</td>\n",
       "      <td>male</td>\n",
       "      <td>22.0</td>\n",
       "      <td>1</td>\n",
       "      <td>0</td>\n",
       "      <td>A/5 21171</td>\n",
       "      <td>7.2500</td>\n",
       "      <td>NaN</td>\n",
       "      <td>S</td>\n",
       "    </tr>\n",
       "    <tr>\n",
       "      <th>1</th>\n",
       "      <td>2</td>\n",
       "      <td>1</td>\n",
       "      <td>1</td>\n",
       "      <td>Cumings, Mrs. John Bradley (Florence Briggs Th...</td>\n",
       "      <td>female</td>\n",
       "      <td>38.0</td>\n",
       "      <td>1</td>\n",
       "      <td>0</td>\n",
       "      <td>PC 17599</td>\n",
       "      <td>71.2833</td>\n",
       "      <td>C85</td>\n",
       "      <td>C</td>\n",
       "    </tr>\n",
       "    <tr>\n",
       "      <th>2</th>\n",
       "      <td>3</td>\n",
       "      <td>1</td>\n",
       "      <td>3</td>\n",
       "      <td>Heikkinen, Miss. Laina</td>\n",
       "      <td>female</td>\n",
       "      <td>26.0</td>\n",
       "      <td>0</td>\n",
       "      <td>0</td>\n",
       "      <td>STON/O2. 3101282</td>\n",
       "      <td>7.9250</td>\n",
       "      <td>NaN</td>\n",
       "      <td>S</td>\n",
       "    </tr>\n",
       "    <tr>\n",
       "      <th>3</th>\n",
       "      <td>4</td>\n",
       "      <td>1</td>\n",
       "      <td>1</td>\n",
       "      <td>Futrelle, Mrs. Jacques Heath (Lily May Peel)</td>\n",
       "      <td>female</td>\n",
       "      <td>35.0</td>\n",
       "      <td>1</td>\n",
       "      <td>0</td>\n",
       "      <td>113803</td>\n",
       "      <td>53.1000</td>\n",
       "      <td>C123</td>\n",
       "      <td>S</td>\n",
       "    </tr>\n",
       "    <tr>\n",
       "      <th>4</th>\n",
       "      <td>5</td>\n",
       "      <td>0</td>\n",
       "      <td>3</td>\n",
       "      <td>Allen, Mr. William Henry</td>\n",
       "      <td>male</td>\n",
       "      <td>35.0</td>\n",
       "      <td>0</td>\n",
       "      <td>0</td>\n",
       "      <td>373450</td>\n",
       "      <td>8.0500</td>\n",
       "      <td>NaN</td>\n",
       "      <td>S</td>\n",
       "    </tr>\n",
       "    <tr>\n",
       "      <th>...</th>\n",
       "      <td>...</td>\n",
       "      <td>...</td>\n",
       "      <td>...</td>\n",
       "      <td>...</td>\n",
       "      <td>...</td>\n",
       "      <td>...</td>\n",
       "      <td>...</td>\n",
       "      <td>...</td>\n",
       "      <td>...</td>\n",
       "      <td>...</td>\n",
       "      <td>...</td>\n",
       "      <td>...</td>\n",
       "    </tr>\n",
       "    <tr>\n",
       "      <th>886</th>\n",
       "      <td>887</td>\n",
       "      <td>0</td>\n",
       "      <td>2</td>\n",
       "      <td>Montvila, Rev. Juozas</td>\n",
       "      <td>male</td>\n",
       "      <td>27.0</td>\n",
       "      <td>0</td>\n",
       "      <td>0</td>\n",
       "      <td>211536</td>\n",
       "      <td>13.0000</td>\n",
       "      <td>NaN</td>\n",
       "      <td>S</td>\n",
       "    </tr>\n",
       "    <tr>\n",
       "      <th>887</th>\n",
       "      <td>888</td>\n",
       "      <td>1</td>\n",
       "      <td>1</td>\n",
       "      <td>Graham, Miss. Margaret Edith</td>\n",
       "      <td>female</td>\n",
       "      <td>19.0</td>\n",
       "      <td>0</td>\n",
       "      <td>0</td>\n",
       "      <td>112053</td>\n",
       "      <td>30.0000</td>\n",
       "      <td>B42</td>\n",
       "      <td>S</td>\n",
       "    </tr>\n",
       "    <tr>\n",
       "      <th>888</th>\n",
       "      <td>889</td>\n",
       "      <td>0</td>\n",
       "      <td>3</td>\n",
       "      <td>Johnston, Miss. Catherine Helen \"Carrie\"</td>\n",
       "      <td>female</td>\n",
       "      <td>NaN</td>\n",
       "      <td>1</td>\n",
       "      <td>2</td>\n",
       "      <td>W./C. 6607</td>\n",
       "      <td>23.4500</td>\n",
       "      <td>NaN</td>\n",
       "      <td>S</td>\n",
       "    </tr>\n",
       "    <tr>\n",
       "      <th>889</th>\n",
       "      <td>890</td>\n",
       "      <td>1</td>\n",
       "      <td>1</td>\n",
       "      <td>Behr, Mr. Karl Howell</td>\n",
       "      <td>male</td>\n",
       "      <td>26.0</td>\n",
       "      <td>0</td>\n",
       "      <td>0</td>\n",
       "      <td>111369</td>\n",
       "      <td>30.0000</td>\n",
       "      <td>C148</td>\n",
       "      <td>C</td>\n",
       "    </tr>\n",
       "    <tr>\n",
       "      <th>890</th>\n",
       "      <td>891</td>\n",
       "      <td>0</td>\n",
       "      <td>3</td>\n",
       "      <td>Dooley, Mr. Patrick</td>\n",
       "      <td>male</td>\n",
       "      <td>32.0</td>\n",
       "      <td>0</td>\n",
       "      <td>0</td>\n",
       "      <td>370376</td>\n",
       "      <td>7.7500</td>\n",
       "      <td>NaN</td>\n",
       "      <td>Q</td>\n",
       "    </tr>\n",
       "  </tbody>\n",
       "</table>\n",
       "<p>891 rows × 12 columns</p>\n",
       "</div>"
      ],
      "text/plain": [
       "     PassengerId  Survived  Pclass   \n",
       "0              1         0       3  \\\n",
       "1              2         1       1   \n",
       "2              3         1       3   \n",
       "3              4         1       1   \n",
       "4              5         0       3   \n",
       "..           ...       ...     ...   \n",
       "886          887         0       2   \n",
       "887          888         1       1   \n",
       "888          889         0       3   \n",
       "889          890         1       1   \n",
       "890          891         0       3   \n",
       "\n",
       "                                                  Name     Sex   Age  SibSp   \n",
       "0                              Braund, Mr. Owen Harris    male  22.0      1  \\\n",
       "1    Cumings, Mrs. John Bradley (Florence Briggs Th...  female  38.0      1   \n",
       "2                               Heikkinen, Miss. Laina  female  26.0      0   \n",
       "3         Futrelle, Mrs. Jacques Heath (Lily May Peel)  female  35.0      1   \n",
       "4                             Allen, Mr. William Henry    male  35.0      0   \n",
       "..                                                 ...     ...   ...    ...   \n",
       "886                              Montvila, Rev. Juozas    male  27.0      0   \n",
       "887                       Graham, Miss. Margaret Edith  female  19.0      0   \n",
       "888           Johnston, Miss. Catherine Helen \"Carrie\"  female   NaN      1   \n",
       "889                              Behr, Mr. Karl Howell    male  26.0      0   \n",
       "890                                Dooley, Mr. Patrick    male  32.0      0   \n",
       "\n",
       "     Parch            Ticket     Fare Cabin Embarked  \n",
       "0        0         A/5 21171   7.2500   NaN        S  \n",
       "1        0          PC 17599  71.2833   C85        C  \n",
       "2        0  STON/O2. 3101282   7.9250   NaN        S  \n",
       "3        0            113803  53.1000  C123        S  \n",
       "4        0            373450   8.0500   NaN        S  \n",
       "..     ...               ...      ...   ...      ...  \n",
       "886      0            211536  13.0000   NaN        S  \n",
       "887      0            112053  30.0000   B42        S  \n",
       "888      2        W./C. 6607  23.4500   NaN        S  \n",
       "889      0            111369  30.0000  C148        C  \n",
       "890      0            370376   7.7500   NaN        Q  \n",
       "\n",
       "[891 rows x 12 columns]"
      ]
     },
     "execution_count": 29,
     "metadata": {},
     "output_type": "execute_result"
    }
   ],
   "source": [
    "df"
   ]
  },
  {
   "cell_type": "markdown",
   "id": "80cd6f73",
   "metadata": {},
   "source": [
    "# 2.5 View и Load"
   ]
  },
  {
   "cell_type": "code",
   "execution_count": 30,
   "id": "c47685f9-a5f0-4035-8914-93ccd8a3fe53",
   "metadata": {
    "tags": []
   },
   "outputs": [],
   "source": [
    "# Запись в новую книгу\n",
    "xw.view(df)"
   ]
  },
  {
   "cell_type": "code",
   "execution_count": 31,
   "id": "34e1623d-291d-419c-8f2f-1c2b65c1e05c",
   "metadata": {
    "tags": []
   },
   "outputs": [],
   "source": [
    "# Запись в определённый лист\n",
    "xw.view(df, sheet=wb.sheets[2])"
   ]
  },
  {
   "cell_type": "code",
   "execution_count": 32,
   "id": "48637cac-93dc-47a5-89ad-1b1c82ef48f2",
   "metadata": {
    "tags": []
   },
   "outputs": [],
   "source": [
    "# Загрузите выбранные данные в pandas dataframe \n",
    "load_df = xw.load()"
   ]
  },
  {
   "cell_type": "code",
   "execution_count": 33,
   "id": "c73f63a0-ba38-4254-9a8d-f6195ba70abe",
   "metadata": {
    "tags": []
   },
   "outputs": [
    {
     "data": {
      "text/html": [
       "<div>\n",
       "<style scoped>\n",
       "    .dataframe tbody tr th:only-of-type {\n",
       "        vertical-align: middle;\n",
       "    }\n",
       "\n",
       "    .dataframe tbody tr th {\n",
       "        vertical-align: top;\n",
       "    }\n",
       "\n",
       "    .dataframe thead th {\n",
       "        text-align: right;\n",
       "    }\n",
       "</style>\n",
       "<table border=\"1\" class=\"dataframe\">\n",
       "  <thead>\n",
       "    <tr style=\"text-align: right;\">\n",
       "      <th></th>\n",
       "      <th>PassengerId</th>\n",
       "      <th>Survived</th>\n",
       "      <th>Pclass</th>\n",
       "      <th>Name</th>\n",
       "      <th>Sex</th>\n",
       "      <th>Age</th>\n",
       "      <th>SibSp</th>\n",
       "      <th>Parch</th>\n",
       "      <th>Ticket</th>\n",
       "      <th>Fare</th>\n",
       "      <th>Cabin</th>\n",
       "      <th>Embarked</th>\n",
       "    </tr>\n",
       "    <tr>\n",
       "      <th></th>\n",
       "      <th></th>\n",
       "      <th></th>\n",
       "      <th></th>\n",
       "      <th></th>\n",
       "      <th></th>\n",
       "      <th></th>\n",
       "      <th></th>\n",
       "      <th></th>\n",
       "      <th></th>\n",
       "      <th></th>\n",
       "      <th></th>\n",
       "      <th></th>\n",
       "    </tr>\n",
       "  </thead>\n",
       "  <tbody>\n",
       "    <tr>\n",
       "      <th>0.0</th>\n",
       "      <td>1.0</td>\n",
       "      <td>0.0</td>\n",
       "      <td>3.0</td>\n",
       "      <td>Braund, Mr. Owen Harris</td>\n",
       "      <td>male</td>\n",
       "      <td>22.0</td>\n",
       "      <td>1.0</td>\n",
       "      <td>0.0</td>\n",
       "      <td>A/5 21171</td>\n",
       "      <td>7.2500</td>\n",
       "      <td>None</td>\n",
       "      <td>S</td>\n",
       "    </tr>\n",
       "    <tr>\n",
       "      <th>1.0</th>\n",
       "      <td>2.0</td>\n",
       "      <td>NaN</td>\n",
       "      <td>NaN</td>\n",
       "      <td>None</td>\n",
       "      <td>female</td>\n",
       "      <td>38.0</td>\n",
       "      <td>1.0</td>\n",
       "      <td>0.0</td>\n",
       "      <td>PC 17599</td>\n",
       "      <td>71.2833</td>\n",
       "      <td>C85</td>\n",
       "      <td>C</td>\n",
       "    </tr>\n",
       "    <tr>\n",
       "      <th>2.0</th>\n",
       "      <td>3.0</td>\n",
       "      <td>NaN</td>\n",
       "      <td>NaN</td>\n",
       "      <td>None</td>\n",
       "      <td>female</td>\n",
       "      <td>26.0</td>\n",
       "      <td>0.0</td>\n",
       "      <td>0.0</td>\n",
       "      <td>STON/O2. 3101282</td>\n",
       "      <td>7.9250</td>\n",
       "      <td>None</td>\n",
       "      <td>S</td>\n",
       "    </tr>\n",
       "    <tr>\n",
       "      <th>3.0</th>\n",
       "      <td>4.0</td>\n",
       "      <td>NaN</td>\n",
       "      <td>NaN</td>\n",
       "      <td>None</td>\n",
       "      <td>female</td>\n",
       "      <td>35.0</td>\n",
       "      <td>1.0</td>\n",
       "      <td>0.0</td>\n",
       "      <td>113803.0</td>\n",
       "      <td>53.1000</td>\n",
       "      <td>C123</td>\n",
       "      <td>S</td>\n",
       "    </tr>\n",
       "    <tr>\n",
       "      <th>4.0</th>\n",
       "      <td>5.0</td>\n",
       "      <td>0.0</td>\n",
       "      <td>3.0</td>\n",
       "      <td>Allen, Mr. William Henry</td>\n",
       "      <td>male</td>\n",
       "      <td>35.0</td>\n",
       "      <td>0.0</td>\n",
       "      <td>0.0</td>\n",
       "      <td>373450.0</td>\n",
       "      <td>8.0500</td>\n",
       "      <td>None</td>\n",
       "      <td>S</td>\n",
       "    </tr>\n",
       "  </tbody>\n",
       "</table>\n",
       "</div>"
      ],
      "text/plain": [
       "     PassengerId  Survived  Pclass                      Name     Sex   Age   \n",
       "                                                                             \n",
       "0.0          1.0       0.0     3.0   Braund, Mr. Owen Harris    male  22.0  \\\n",
       "1.0          2.0       NaN     NaN                      None  female  38.0   \n",
       "2.0          3.0       NaN     NaN                      None  female  26.0   \n",
       "3.0          4.0       NaN     NaN                      None  female  35.0   \n",
       "4.0          5.0       0.0     3.0  Allen, Mr. William Henry    male  35.0   \n",
       "\n",
       "     SibSp  Parch            Ticket     Fare Cabin Embarked  \n",
       "                                                             \n",
       "0.0    1.0    0.0         A/5 21171   7.2500  None        S  \n",
       "1.0    1.0    0.0          PC 17599  71.2833   C85        C  \n",
       "2.0    0.0    0.0  STON/O2. 3101282   7.9250  None        S  \n",
       "3.0    1.0    0.0          113803.0  53.1000  C123        S  \n",
       "4.0    0.0    0.0          373450.0   8.0500  None        S  "
      ]
     },
     "execution_count": 33,
     "metadata": {},
     "output_type": "execute_result"
    }
   ],
   "source": [
    "load_df.head()"
   ]
  },
  {
   "cell_type": "code",
   "execution_count": 34,
   "id": "846c6aa5-5c30-411c-81ed-8cb514ddf18f",
   "metadata": {
    "tags": []
   },
   "outputs": [
    {
     "name": "stdout",
     "output_type": "stream",
     "text": [
      "True\n"
     ]
    }
   ],
   "source": [
    "print(type(df) == type(load_df))\n",
    "del load_df"
   ]
  },
  {
   "cell_type": "markdown",
   "id": "01c4bcf4-88bb-45f0-9519-6bcc005f99af",
   "metadata": {},
   "source": [
    "# 2.6 Примеры "
   ]
  },
  {
   "cell_type": "code",
   "execution_count": 35,
   "id": "df7b0dbf-dbeb-436c-8f03-ec97f3b89217",
   "metadata": {
    "tags": []
   },
   "outputs": [
    {
     "data": {
      "text/plain": [
       "['two', 5.0, 6.0]"
      ]
     },
     "execution_count": 35,
     "metadata": {},
     "output_type": "execute_result"
    }
   ],
   "source": [
    "# Чтение данных из диапазона\n",
    "wb.sheets[1].range('B1:B3').value"
   ]
  },
  {
   "cell_type": "code",
   "execution_count": 36,
   "id": "d06e6fb0-67ab-4acd-a8e0-da0ca1152cba",
   "metadata": {
    "tags": []
   },
   "outputs": [],
   "source": [
    "# Insert Formula\n",
    "wb.sheets[2].range('B1:B3').formula = \"=A1+A10\""
   ]
  },
  {
   "cell_type": "code",
   "execution_count": 38,
   "id": "236da81f-b764-420f-bfdf-836da1f1d7be",
   "metadata": {},
   "outputs": [],
   "source": [
    "# Создание именованных диапазонов\n",
    "wb.sheets[2].range(\"B1:B3\").name = \"Новый_диапазон\""
   ]
  },
  {
   "cell_type": "code",
   "execution_count": 40,
   "id": "c5688dfc-db0c-4c1a-a3aa-7fb38f59cb7f",
   "metadata": {
    "tags": []
   },
   "outputs": [],
   "source": [
    "# Запись с транспонированием\n",
    "wb.sheets[1].range('B1:B3').options(transpose=False).value = [10, 20, 404]"
   ]
  },
  {
   "cell_type": "code",
   "execution_count": 42,
   "id": "81dc2588-3c9e-457e-adf5-d2f35b6cee3a",
   "metadata": {
    "tags": []
   },
   "outputs": [
    {
     "data": {
      "text/plain": [
       "[10.0, 20.0, 404.0]"
      ]
     },
     "execution_count": 42,
     "metadata": {},
     "output_type": "execute_result"
    }
   ],
   "source": [
    "# Зададим размерность 1\n",
    "wb.sheets[1].range(\"B1:B3\").options(ndim=1).value"
   ]
  },
  {
   "cell_type": "code",
   "execution_count": 43,
   "id": "a18397cf-aa37-437e-8d1d-048bcc260b55",
   "metadata": {
    "tags": []
   },
   "outputs": [
    {
     "data": {
      "text/plain": [
       "[['0'], [9.0], [11.0]]"
      ]
     },
     "execution_count": 43,
     "metadata": {},
     "output_type": "execute_result"
    }
   ],
   "source": [
    "# Зададим размерность 2\n",
    "wb.sheets[2].range(\"B1:B3\").options(ndim=2).value"
   ]
  },
  {
   "cell_type": "code",
   "execution_count": 44,
   "id": "7e6f3a03-5431-4711-8a00-c0eb477c9f24",
   "metadata": {
    "tags": []
   },
   "outputs": [
    {
     "data": {
      "text/plain": [
       "'MyPDF'"
      ]
     },
     "execution_count": 44,
     "metadata": {},
     "output_type": "execute_result"
    }
   ],
   "source": [
    "# Сохранение данных\n",
    "wb.to_pdf('MyPDF')"
   ]
  },
  {
   "cell_type": "markdown",
   "id": "8fbe6e2d",
   "metadata": {},
   "source": [
    "Уникальное количество семейных отношений для класса билета:"
   ]
  },
  {
   "cell_type": "code",
   "execution_count": 46,
   "id": "fe3d9d23-5df6-46b1-a602-8bf8871b449d",
   "metadata": {},
   "outputs": [
    {
     "data": {
      "text/html": [
       "<div>\n",
       "<style scoped>\n",
       "    .dataframe tbody tr th:only-of-type {\n",
       "        vertical-align: middle;\n",
       "    }\n",
       "\n",
       "    .dataframe tbody tr th {\n",
       "        vertical-align: top;\n",
       "    }\n",
       "\n",
       "    .dataframe thead th {\n",
       "        text-align: right;\n",
       "    }\n",
       "</style>\n",
       "<table border=\"1\" class=\"dataframe\">\n",
       "  <thead>\n",
       "    <tr style=\"text-align: right;\">\n",
       "      <th></th>\n",
       "      <th>PassengerId</th>\n",
       "      <th>Survived</th>\n",
       "      <th>Pclass</th>\n",
       "      <th>Name</th>\n",
       "      <th>Sex</th>\n",
       "      <th>Age</th>\n",
       "      <th>SibSp</th>\n",
       "      <th>Parch</th>\n",
       "      <th>Ticket</th>\n",
       "      <th>Fare</th>\n",
       "      <th>Cabin</th>\n",
       "      <th>Embarked</th>\n",
       "    </tr>\n",
       "  </thead>\n",
       "  <tbody>\n",
       "    <tr>\n",
       "      <th>0</th>\n",
       "      <td>1</td>\n",
       "      <td>0</td>\n",
       "      <td>3</td>\n",
       "      <td>Braund, Mr. Owen Harris</td>\n",
       "      <td>male</td>\n",
       "      <td>22.0</td>\n",
       "      <td>1</td>\n",
       "      <td>0</td>\n",
       "      <td>A/5 21171</td>\n",
       "      <td>7.2500</td>\n",
       "      <td>NaN</td>\n",
       "      <td>S</td>\n",
       "    </tr>\n",
       "    <tr>\n",
       "      <th>1</th>\n",
       "      <td>2</td>\n",
       "      <td>1</td>\n",
       "      <td>1</td>\n",
       "      <td>Cumings, Mrs. John Bradley (Florence Briggs Th...</td>\n",
       "      <td>female</td>\n",
       "      <td>38.0</td>\n",
       "      <td>1</td>\n",
       "      <td>0</td>\n",
       "      <td>PC 17599</td>\n",
       "      <td>71.2833</td>\n",
       "      <td>C85</td>\n",
       "      <td>C</td>\n",
       "    </tr>\n",
       "    <tr>\n",
       "      <th>2</th>\n",
       "      <td>3</td>\n",
       "      <td>1</td>\n",
       "      <td>3</td>\n",
       "      <td>Heikkinen, Miss. Laina</td>\n",
       "      <td>female</td>\n",
       "      <td>26.0</td>\n",
       "      <td>0</td>\n",
       "      <td>0</td>\n",
       "      <td>STON/O2. 3101282</td>\n",
       "      <td>7.9250</td>\n",
       "      <td>NaN</td>\n",
       "      <td>S</td>\n",
       "    </tr>\n",
       "    <tr>\n",
       "      <th>3</th>\n",
       "      <td>4</td>\n",
       "      <td>1</td>\n",
       "      <td>1</td>\n",
       "      <td>Futrelle, Mrs. Jacques Heath (Lily May Peel)</td>\n",
       "      <td>female</td>\n",
       "      <td>35.0</td>\n",
       "      <td>1</td>\n",
       "      <td>0</td>\n",
       "      <td>113803</td>\n",
       "      <td>53.1000</td>\n",
       "      <td>C123</td>\n",
       "      <td>S</td>\n",
       "    </tr>\n",
       "    <tr>\n",
       "      <th>4</th>\n",
       "      <td>5</td>\n",
       "      <td>0</td>\n",
       "      <td>3</td>\n",
       "      <td>Allen, Mr. William Henry</td>\n",
       "      <td>male</td>\n",
       "      <td>35.0</td>\n",
       "      <td>0</td>\n",
       "      <td>0</td>\n",
       "      <td>373450</td>\n",
       "      <td>8.0500</td>\n",
       "      <td>NaN</td>\n",
       "      <td>S</td>\n",
       "    </tr>\n",
       "    <tr>\n",
       "      <th>...</th>\n",
       "      <td>...</td>\n",
       "      <td>...</td>\n",
       "      <td>...</td>\n",
       "      <td>...</td>\n",
       "      <td>...</td>\n",
       "      <td>...</td>\n",
       "      <td>...</td>\n",
       "      <td>...</td>\n",
       "      <td>...</td>\n",
       "      <td>...</td>\n",
       "      <td>...</td>\n",
       "      <td>...</td>\n",
       "    </tr>\n",
       "    <tr>\n",
       "      <th>886</th>\n",
       "      <td>887</td>\n",
       "      <td>0</td>\n",
       "      <td>2</td>\n",
       "      <td>Montvila, Rev. Juozas</td>\n",
       "      <td>male</td>\n",
       "      <td>27.0</td>\n",
       "      <td>0</td>\n",
       "      <td>0</td>\n",
       "      <td>211536</td>\n",
       "      <td>13.0000</td>\n",
       "      <td>NaN</td>\n",
       "      <td>S</td>\n",
       "    </tr>\n",
       "    <tr>\n",
       "      <th>887</th>\n",
       "      <td>888</td>\n",
       "      <td>1</td>\n",
       "      <td>1</td>\n",
       "      <td>Graham, Miss. Margaret Edith</td>\n",
       "      <td>female</td>\n",
       "      <td>19.0</td>\n",
       "      <td>0</td>\n",
       "      <td>0</td>\n",
       "      <td>112053</td>\n",
       "      <td>30.0000</td>\n",
       "      <td>B42</td>\n",
       "      <td>S</td>\n",
       "    </tr>\n",
       "    <tr>\n",
       "      <th>888</th>\n",
       "      <td>889</td>\n",
       "      <td>0</td>\n",
       "      <td>3</td>\n",
       "      <td>Johnston, Miss. Catherine Helen \"Carrie\"</td>\n",
       "      <td>female</td>\n",
       "      <td>NaN</td>\n",
       "      <td>1</td>\n",
       "      <td>2</td>\n",
       "      <td>W./C. 6607</td>\n",
       "      <td>23.4500</td>\n",
       "      <td>NaN</td>\n",
       "      <td>S</td>\n",
       "    </tr>\n",
       "    <tr>\n",
       "      <th>889</th>\n",
       "      <td>890</td>\n",
       "      <td>1</td>\n",
       "      <td>1</td>\n",
       "      <td>Behr, Mr. Karl Howell</td>\n",
       "      <td>male</td>\n",
       "      <td>26.0</td>\n",
       "      <td>0</td>\n",
       "      <td>0</td>\n",
       "      <td>111369</td>\n",
       "      <td>30.0000</td>\n",
       "      <td>C148</td>\n",
       "      <td>C</td>\n",
       "    </tr>\n",
       "    <tr>\n",
       "      <th>890</th>\n",
       "      <td>891</td>\n",
       "      <td>0</td>\n",
       "      <td>3</td>\n",
       "      <td>Dooley, Mr. Patrick</td>\n",
       "      <td>male</td>\n",
       "      <td>32.0</td>\n",
       "      <td>0</td>\n",
       "      <td>0</td>\n",
       "      <td>370376</td>\n",
       "      <td>7.7500</td>\n",
       "      <td>NaN</td>\n",
       "      <td>Q</td>\n",
       "    </tr>\n",
       "  </tbody>\n",
       "</table>\n",
       "<p>891 rows × 12 columns</p>\n",
       "</div>"
      ],
      "text/plain": [
       "     PassengerId  Survived  Pclass   \n",
       "0              1         0       3  \\\n",
       "1              2         1       1   \n",
       "2              3         1       3   \n",
       "3              4         1       1   \n",
       "4              5         0       3   \n",
       "..           ...       ...     ...   \n",
       "886          887         0       2   \n",
       "887          888         1       1   \n",
       "888          889         0       3   \n",
       "889          890         1       1   \n",
       "890          891         0       3   \n",
       "\n",
       "                                                  Name     Sex   Age  SibSp   \n",
       "0                              Braund, Mr. Owen Harris    male  22.0      1  \\\n",
       "1    Cumings, Mrs. John Bradley (Florence Briggs Th...  female  38.0      1   \n",
       "2                               Heikkinen, Miss. Laina  female  26.0      0   \n",
       "3         Futrelle, Mrs. Jacques Heath (Lily May Peel)  female  35.0      1   \n",
       "4                             Allen, Mr. William Henry    male  35.0      0   \n",
       "..                                                 ...     ...   ...    ...   \n",
       "886                              Montvila, Rev. Juozas    male  27.0      0   \n",
       "887                       Graham, Miss. Margaret Edith  female  19.0      0   \n",
       "888           Johnston, Miss. Catherine Helen \"Carrie\"  female   NaN      1   \n",
       "889                              Behr, Mr. Karl Howell    male  26.0      0   \n",
       "890                                Dooley, Mr. Patrick    male  32.0      0   \n",
       "\n",
       "     Parch            Ticket     Fare Cabin Embarked  \n",
       "0        0         A/5 21171   7.2500   NaN        S  \n",
       "1        0          PC 17599  71.2833   C85        C  \n",
       "2        0  STON/O2. 3101282   7.9250   NaN        S  \n",
       "3        0            113803  53.1000  C123        S  \n",
       "4        0            373450   8.0500   NaN        S  \n",
       "..     ...               ...      ...   ...      ...  \n",
       "886      0            211536  13.0000   NaN        S  \n",
       "887      0            112053  30.0000   B42        S  \n",
       "888      2        W./C. 6607  23.4500   NaN        S  \n",
       "889      0            111369  30.0000  C148        C  \n",
       "890      0            370376   7.7500   NaN        Q  \n",
       "\n",
       "[891 rows x 12 columns]"
      ]
     },
     "execution_count": 46,
     "metadata": {},
     "output_type": "execute_result"
    }
   ],
   "source": [
    "df"
   ]
  },
  {
   "cell_type": "code",
   "execution_count": 45,
   "id": "7bdd9c2e",
   "metadata": {},
   "outputs": [
    {
     "data": {
      "text/html": [
       "<div>\n",
       "<style scoped>\n",
       "    .dataframe tbody tr th:only-of-type {\n",
       "        vertical-align: middle;\n",
       "    }\n",
       "\n",
       "    .dataframe tbody tr th {\n",
       "        vertical-align: top;\n",
       "    }\n",
       "\n",
       "    .dataframe thead th {\n",
       "        text-align: right;\n",
       "    }\n",
       "</style>\n",
       "<table border=\"1\" class=\"dataframe\">\n",
       "  <thead>\n",
       "    <tr style=\"text-align: right;\">\n",
       "      <th></th>\n",
       "      <th>SibSp</th>\n",
       "    </tr>\n",
       "    <tr>\n",
       "      <th>Pclass</th>\n",
       "      <th></th>\n",
       "    </tr>\n",
       "  </thead>\n",
       "  <tbody>\n",
       "    <tr>\n",
       "      <th>1</th>\n",
       "      <td>4</td>\n",
       "    </tr>\n",
       "    <tr>\n",
       "      <th>2</th>\n",
       "      <td>4</td>\n",
       "    </tr>\n",
       "    <tr>\n",
       "      <th>3</th>\n",
       "      <td>7</td>\n",
       "    </tr>\n",
       "  </tbody>\n",
       "</table>\n",
       "</div>"
      ],
      "text/plain": [
       "        SibSp\n",
       "Pclass       \n",
       "1           4\n",
       "2           4\n",
       "3           7"
      ]
     },
     "execution_count": 45,
     "metadata": {},
     "output_type": "execute_result"
    }
   ],
   "source": [
    "df.pivot_table(index='Pclass', aggfunc={'SibSp': 'nunique'})"
   ]
  },
  {
   "cell_type": "code",
   "execution_count": 48,
   "id": "ab9a3815",
   "metadata": {},
   "outputs": [],
   "source": [
    "wb.sheets[1].range(\"A1\").options(index=True).value = df.pivot_table(index='Pclass', aggfunc={'SibSp': 'nunique'})"
   ]
  },
  {
   "cell_type": "markdown",
   "id": "8a71ee62",
   "metadata": {},
   "source": [
    "# 2.7 Графики\n",
    "\n",
    "https://docs.xlwings.org/en/stable/matplotlib.html"
   ]
  },
  {
   "cell_type": "code",
   "execution_count": 50,
   "id": "6081ae2d-9ec8-4d57-af60-7b56d1cf514b",
   "metadata": {},
   "outputs": [
    {
     "name": "stdout",
     "output_type": "stream",
     "text": [
      "Collecting seaborn"
     ]
    },
    {
     "name": "stderr",
     "output_type": "stream",
     "text": [
      "\n",
      "[notice] A new release of pip is available: 23.0.1 -> 23.1.2\n",
      "[notice] To update, run: python.exe -m pip install --upgrade pip\n"
     ]
    },
    {
     "name": "stdout",
     "output_type": "stream",
     "text": [
      "\n",
      "  Using cached seaborn-0.12.2-py3-none-any.whl (293 kB)\n",
      "Collecting matplotlib!=3.6.1,>=3.1\n",
      "  Using cached matplotlib-3.7.1-cp310-cp310-win_amd64.whl (7.6 MB)\n",
      "Requirement already satisfied: numpy!=1.24.0,>=1.17 in d:\\excel\\venvv\\lib\\site-packages (from seaborn) (1.24.3)\n",
      "Requirement already satisfied: pandas>=0.25 in d:\\excel\\venvv\\lib\\site-packages (from seaborn) (2.0.1)\n",
      "Requirement already satisfied: python-dateutil>=2.7 in d:\\excel\\venvv\\lib\\site-packages (from matplotlib!=3.6.1,>=3.1->seaborn) (2.8.2)\n",
      "Requirement already satisfied: packaging>=20.0 in d:\\excel\\venvv\\lib\\site-packages (from matplotlib!=3.6.1,>=3.1->seaborn) (23.1)\n",
      "Collecting fonttools>=4.22.0\n",
      "  Downloading fonttools-4.39.4-py3-none-any.whl (1.0 MB)\n",
      "     ---------------------------------------- 0.0/1.0 MB ? eta -:--:--\n",
      "     - -------------------------------------- 0.0/1.0 MB 660.6 kB/s eta 0:00:02\n",
      "     - -------------------------------------- 0.0/1.0 MB 660.6 kB/s eta 0:00:02\n",
      "     --- ------------------------------------ 0.1/1.0 MB 655.4 kB/s eta 0:00:02\n",
      "     --- ------------------------------------ 0.1/1.0 MB 655.4 kB/s eta 0:00:02\n",
      "     ------ --------------------------------- 0.2/1.0 MB 706.2 kB/s eta 0:00:02\n",
      "     -------- ------------------------------- 0.2/1.0 MB 915.1 kB/s eta 0:00:01\n",
      "     ----------- ---------------------------- 0.3/1.0 MB 883.3 kB/s eta 0:00:01\n",
      "     ----------------- ---------------------- 0.4/1.0 MB 1.2 MB/s eta 0:00:01\n",
      "     --------------------- ------------------ 0.5/1.0 MB 1.4 MB/s eta 0:00:01\n",
      "     --------------------------- ------------ 0.7/1.0 MB 1.5 MB/s eta 0:00:01\n",
      "     ------------------------------------ --- 0.9/1.0 MB 1.8 MB/s eta 0:00:01\n",
      "     ---------------------------------------- 1.0/1.0 MB 1.9 MB/s eta 0:00:00\n",
      "Collecting pillow>=6.2.0\n",
      "  Using cached Pillow-9.5.0-cp310-cp310-win_amd64.whl (2.5 MB)\n",
      "Collecting kiwisolver>=1.0.1\n",
      "  Using cached kiwisolver-1.4.4-cp310-cp310-win_amd64.whl (55 kB)\n",
      "Collecting cycler>=0.10\n",
      "  Using cached cycler-0.11.0-py3-none-any.whl (6.4 kB)\n",
      "Collecting pyparsing>=2.3.1\n",
      "  Using cached pyparsing-3.0.9-py3-none-any.whl (98 kB)\n",
      "Collecting contourpy>=1.0.1\n",
      "  Using cached contourpy-1.0.7-cp310-cp310-win_amd64.whl (162 kB)\n",
      "Requirement already satisfied: tzdata>=2022.1 in d:\\excel\\venvv\\lib\\site-packages (from pandas>=0.25->seaborn) (2023.3)\n",
      "Requirement already satisfied: pytz>=2020.1 in d:\\excel\\venvv\\lib\\site-packages (from pandas>=0.25->seaborn) (2023.3)\n",
      "Requirement already satisfied: six>=1.5 in d:\\excel\\venvv\\lib\\site-packages (from python-dateutil>=2.7->matplotlib!=3.6.1,>=3.1->seaborn) (1.16.0)\n",
      "Installing collected packages: pyparsing, pillow, kiwisolver, fonttools, cycler, contourpy, matplotlib, seaborn\n",
      "Successfully installed contourpy-1.0.7 cycler-0.11.0 fonttools-4.39.4 kiwisolver-1.4.4 matplotlib-3.7.1 pillow-9.5.0 pyparsing-3.0.9 seaborn-0.12.2\n"
     ]
    }
   ],
   "source": [
    "!pip install seaborn"
   ]
  },
  {
   "cell_type": "markdown",
   "id": "48abd69d-0c31-419f-a915-91491ca080c9",
   "metadata": {},
   "source": [
    "(ОШИБКУ НЕ ИСПРАВИЛ ЕЩЁ)"
   ]
  },
  {
   "cell_type": "code",
   "execution_count": 63,
   "id": "69bd3468",
   "metadata": {
    "tags": []
   },
   "outputs": [
    {
     "ename": "TypeError",
     "evalue": "Don't know what to do with that image object",
     "output_type": "error",
     "traceback": [
      "\u001b[1;31m---------------------------------------------------------------------------\u001b[0m",
      "\u001b[1;31mTypeError\u001b[0m                                 Traceback (most recent call last)",
      "Cell \u001b[1;32mIn[63], line 8\u001b[0m\n\u001b[0;32m      6\u001b[0m plt\u001b[38;5;241m.\u001b[39mxlabel(\u001b[38;5;124m'\u001b[39m\u001b[38;5;124mPclass\u001b[39m\u001b[38;5;124m'\u001b[39m)\n\u001b[0;32m      7\u001b[0m plt\u001b[38;5;241m.\u001b[39mylabel(\u001b[38;5;124m'\u001b[39m\u001b[38;5;124mSurvived\u001b[39m\u001b[38;5;124m'\u001b[39m)\n\u001b[1;32m----> 8\u001b[0m \u001b[43mwb\u001b[49m\u001b[38;5;241;43m.\u001b[39;49m\u001b[43msheets\u001b[49m\u001b[43m[\u001b[49m\u001b[38;5;241;43m1\u001b[39;49m\u001b[43m]\u001b[49m\u001b[38;5;241;43m.\u001b[39;49m\u001b[43mpictures\u001b[49m\u001b[38;5;241;43m.\u001b[39;49m\u001b[43madd\u001b[49m\u001b[43m(\u001b[49m\u001b[43mfig\u001b[49m\u001b[43m,\u001b[49m\u001b[43m \u001b[49m\u001b[43mname\u001b[49m\u001b[38;5;241;43m=\u001b[39;49m\u001b[38;5;124;43m'\u001b[39;49m\u001b[38;5;124;43mdfs\u001b[39;49m\u001b[38;5;124;43m'\u001b[39;49m\u001b[43m,\u001b[49m\u001b[43m \u001b[49m\u001b[43mupdate\u001b[49m\u001b[38;5;241;43m=\u001b[39;49m\u001b[38;5;28;43;01mTrue\u001b[39;49;00m\u001b[43m)\u001b[49m\n",
      "File \u001b[1;32mD:\\Excel\\venvv\\lib\\site-packages\\xlwings\\main.py:4419\u001b[0m, in \u001b[0;36mPictures.add\u001b[1;34m(self, image, link_to_file, save_with_document, left, top, width, height, name, update, scale, format, anchor, export_options)\u001b[0m\n\u001b[0;32m   4414\u001b[0m \u001b[38;5;28;01mif\u001b[39;00m name \u001b[38;5;129;01mand\u001b[39;00m name \u001b[38;5;129;01min\u001b[39;00m \u001b[38;5;28mself\u001b[39m\u001b[38;5;241m.\u001b[39mparent\u001b[38;5;241m.\u001b[39mpictures:\n\u001b[0;32m   4415\u001b[0m     \u001b[38;5;28;01mraise\u001b[39;00m ShapeAlreadyExists(\n\u001b[0;32m   4416\u001b[0m         \u001b[38;5;124mf\u001b[39m\u001b[38;5;124m\"\u001b[39m\u001b[38;5;124m'\u001b[39m\u001b[38;5;132;01m{\u001b[39;00mname\u001b[38;5;132;01m}\u001b[39;00m\u001b[38;5;124m'\u001b[39m\u001b[38;5;124m is already present on \u001b[39m\u001b[38;5;132;01m{\u001b[39;00m\u001b[38;5;28mself\u001b[39m\u001b[38;5;241m.\u001b[39mparent\u001b[38;5;241m.\u001b[39mname\u001b[38;5;132;01m}\u001b[39;00m\u001b[38;5;124m.\u001b[39m\u001b[38;5;124m\"\u001b[39m\n\u001b[0;32m   4417\u001b[0m     )\n\u001b[1;32m-> 4419\u001b[0m filename, is_temp_file \u001b[38;5;241m=\u001b[39m \u001b[43mutils\u001b[49m\u001b[38;5;241;43m.\u001b[39;49m\u001b[43mprocess_image\u001b[49m\u001b[43m(\u001b[49m\n\u001b[0;32m   4420\u001b[0m \u001b[43m    \u001b[49m\u001b[43mimage\u001b[49m\u001b[43m,\u001b[49m\n\u001b[0;32m   4421\u001b[0m \u001b[43m    \u001b[49m\u001b[38;5;28;43mformat\u001b[39;49m\u001b[38;5;241;43m=\u001b[39;49m\u001b[38;5;124;43m\"\u001b[39;49m\u001b[38;5;124;43mpng\u001b[39;49m\u001b[38;5;124;43m\"\u001b[39;49m\u001b[43m \u001b[49m\u001b[38;5;28;43;01mif\u001b[39;49;00m\u001b[43m \u001b[49m\u001b[38;5;129;43;01mnot\u001b[39;49;00m\u001b[43m \u001b[49m\u001b[38;5;28;43mformat\u001b[39;49m\u001b[43m \u001b[49m\u001b[38;5;28;43;01melse\u001b[39;49;00m\u001b[43m \u001b[49m\u001b[38;5;28;43mformat\u001b[39;49m\u001b[43m,\u001b[49m\n\u001b[0;32m   4422\u001b[0m \u001b[43m    \u001b[49m\u001b[43mexport_options\u001b[49m\u001b[38;5;241;43m=\u001b[39;49m\u001b[43mexport_options\u001b[49m\u001b[43m,\u001b[49m\n\u001b[0;32m   4423\u001b[0m \u001b[43m\u001b[49m\u001b[43m)\u001b[49m\n\u001b[0;32m   4425\u001b[0m \u001b[38;5;28;01mif\u001b[39;00m \u001b[38;5;129;01mnot\u001b[39;00m (link_to_file \u001b[38;5;129;01mor\u001b[39;00m save_with_document):\n\u001b[0;32m   4426\u001b[0m     \u001b[38;5;28;01mraise\u001b[39;00m \u001b[38;5;167;01mException\u001b[39;00m(\n\u001b[0;32m   4427\u001b[0m         \u001b[38;5;124m\"\u001b[39m\u001b[38;5;124mArguments link_to_file and save_with_document cannot both be false\u001b[39m\u001b[38;5;124m\"\u001b[39m\n\u001b[0;32m   4428\u001b[0m     )\n",
      "File \u001b[1;32mD:\\Excel\\venvv\\lib\\site-packages\\xlwings\\utils.py:299\u001b[0m, in \u001b[0;36mprocess_image\u001b[1;34m(image, format, export_options)\u001b[0m\n\u001b[0;32m    297\u001b[0m     image_type \u001b[38;5;241m=\u001b[39m \u001b[38;5;124m\"\u001b[39m\u001b[38;5;124mplotly\u001b[39m\u001b[38;5;124m\"\u001b[39m\n\u001b[0;32m    298\u001b[0m \u001b[38;5;28;01melse\u001b[39;00m:\n\u001b[1;32m--> 299\u001b[0m     \u001b[38;5;28;01mraise\u001b[39;00m \u001b[38;5;167;01mTypeError\u001b[39;00m(\u001b[38;5;124m\"\u001b[39m\u001b[38;5;124mDon\u001b[39m\u001b[38;5;124m'\u001b[39m\u001b[38;5;124mt know what to do with that image object\u001b[39m\u001b[38;5;124m\"\u001b[39m)\n\u001b[0;32m    301\u001b[0m \u001b[38;5;28;01mif\u001b[39;00m export_options \u001b[38;5;129;01mis\u001b[39;00m \u001b[38;5;28;01mNone\u001b[39;00m:\n\u001b[0;32m    302\u001b[0m     export_options \u001b[38;5;241m=\u001b[39m {\u001b[38;5;124m\"\u001b[39m\u001b[38;5;124mbbox_inches\u001b[39m\u001b[38;5;124m\"\u001b[39m: \u001b[38;5;124m\"\u001b[39m\u001b[38;5;124mtight\u001b[39m\u001b[38;5;124m\"\u001b[39m, \u001b[38;5;124m\"\u001b[39m\u001b[38;5;124mdpi\u001b[39m\u001b[38;5;124m\"\u001b[39m: \u001b[38;5;241m200\u001b[39m}\n",
      "\u001b[1;31mTypeError\u001b[0m: Don't know what to do with that image object"
     ]
    },
    {
     "data": {
      "image/png": "[encoded data removed]",
      "text/plain": [
       "<Figure size 640x480 with 1 Axes>"
      ]
     },
     "metadata": {},
     "output_type": "display_data"
    }
   ],
   "source": [
    "import matplotlib.pyplot as plt\n",
    "import seaborn as sns\n",
    "\n",
    "fig = plt.figure()\n",
    "sns.barplot(x='Pclass', y='Survived', data=df)\n",
    "plt.xlabel('Pclass')\n",
    "plt.ylabel('Survived')\n",
    "wb.sheets[1].pictures.add(fig, name='MyPlot', update=True)"
   ]
  },
  {
   "cell_type": "code",
   "execution_count": null,
   "id": "9c4f10ac",
   "metadata": {},
   "outputs": [],
   "source": [
    "wb.save('automate_excel_with_python.xlsx')\n",
    "wb.close()"
   ]
  },
  {
   "cell_type": "markdown",
   "id": "b1b549a1-45ef-4a93-9d13-7f9cf5466b1f",
   "metadata": {},
   "source": [
    "<h1 style=\"color:#008B8B\">3. Макросы</h1>\n",
    "\n",
    "https://docs.xlwings.org/en/stable/vba.html#run-python"
   ]
  },
  {
   "cell_type": "markdown",
   "id": "fa06f2d8-92be-424f-8210-4f29ea23e357",
   "metadata": {},
   "source": [
    "Создаём новый модуль и добавляем этот код:\n",
    "\n",
    "```C\n",
    "Sub HelloWorld()\n",
    "    RunPython \"import hello; hello.world()\"\n",
    "End Sub\n",
    "```\n",
    "\n",
    "Это вызывает следующий код в hello.py:\n",
    "\n",
    "```Python\n",
    "# hello.py\n",
    "import numpy as np\n",
    "import xlwings as xw\n",
    "\n",
    "\n",
    "def world():\n",
    "    wb = xw.Book.caller()\n",
    "    wb.sheets[0]['A1'].value = 'Hello World!'\n",
    "```"
   ]
  },
  {
   "cell_type": "markdown",
   "id": "0a56cf7a-af77-4420-82b0-846934821940",
   "metadata": {},
   "source": [
    "В Windows, в качестве альтернативы вызову макросов через Run Python, вы также можете использовать декоратор @xw.sub:\n",
    "\n",
    "```python\n",
    "import xlwings as xw\n",
    "\n",
    "\n",
    "@xw.sub\n",
    "def my_macro():\n",
    "    \"\"\"Writes the name of the Workbook into Range(\"A1\") of Sheet 1\"\"\"\n",
    "    wb = xw.Book.caller()\n",
    "    wb.sheets[0].range('A1').value = wb.name\n",
    "```"
   ]
  },
  {
   "cell_type": "markdown",
   "id": "6b2d68e3-5cb6-4768-a349-0fe03bec18a3",
   "metadata": {
    "tags": []
   },
   "source": [
    "<h1 style=\"color:#008B8B\">4. Конфигурирование</h1> (ЭТУ ТЕМУ НЕ УСПЕЛИ РАЗОБРАТЬ, БУДЕТ ЗАПРОС, НАПИШУ ТУТОРИАЛ)\n",
    "\n",
    "У данного инструмента есть возможность использовать его без установки надстройки. То есть, нам достаточно использовать конфигурационные файлы, чтобы использовать возможности библиотеки.\n",
    "\n",
    "`C:\\Users\\your_system_username\\.xlwings\\xlwings.conf`\n",
    "\n",
    "\n",
    "**Как выглядит конфигурационный файл:**\n",
    "\n",
    "```\n",
    "\"ADD_WORKBOOK_TO_PYTHONPATH\",\"False\"\n",
    "\"USE UDF SERVER\",\"False\"\n",
    "\"SHOW CONSOLE\",\"False\"\n",
    "\"INTERPRETER_WIN\",\"D:\\GitHub\\venv\\Scripts\\python.exe\"\n",
    "\"PYTHONPATH\",\"D:\\GitHub\\titanic\"\n",
    "```\n",
    "\n",
    "\n",
    "**1. Удаляем надстройку**\n",
    "\n",
    "`xlwings addin remove`\n",
    "\n",
    "**2. Создаём новый проект**\n",
    "\n",
    "`xlwings quickstart demo_config --standalone`\n",
    "\n",
    "**Как добавить макросы в уже рабочую книгу?**"
   ]
  },
  {
   "cell_type": "code",
   "execution_count": 129,
   "id": "3db3ae68-2032-43dd-a66e-0d46758cad58",
   "metadata": {
    "tags": []
   },
   "outputs": [
    {
     "data": {
      "text/plain": [
       "'D:\\\\GitHub\\\\venv\\\\lib\\\\site-packages\\\\xlwings\\\\__init__.py'"
      ]
     },
     "execution_count": 129,
     "metadata": {},
     "output_type": "execute_result"
    }
   ],
   "source": [
    "xw.__file__"
   ]
  },
  {
   "cell_type": "markdown",
   "id": "4746f50c-1299-499c-b36b-f376d9ecbd5e",
   "metadata": {},
   "source": [
    "Копируем этот кусочек:\n",
    "\n",
    "`D:\\\\GitHub\\\\venv\\\\lib\\\\site-packages\\\\xlwings`"
   ]
  },
  {
   "cell_type": "markdown",
   "id": "1c7dc555-8246-49f3-bb8c-75c46c5289ad",
   "metadata": {},
   "source": [
    "`Dictionary.cls`- macos\n",
    "\n",
    "`xlwings.bas` - windows"
   ]
  },
  {
   "cell_type": "markdown",
   "id": "a58823d9-b8c7-4987-83d8-709900656f56",
   "metadata": {},
   "source": [
    "**Как передать параметры?**\n",
    "\n",
    "https://stackoverflow.com/questions/35606251/how-to-pass-arguments-from-xlwings-to-vba-excel-macro\n",
    "\n",
    "https://stackoverflow.com/questions/34167920/passing-a-variable-from-excel-to-python-with-xlwings\n",
    "\n",
    "**Документация в PDF**\n",
    "\n",
    "https://buildmedia.readthedocs.org/media/pdf/xlwings/stable/xlwings.pdf\n",
    "\n",
    "**Тут можно почитать что-то полезное:**\n",
    "\n",
    "https://www.quora.com/How-does-PyXLL-or-xlwings-of-Python-help-Excel-automation-Is-it-in-terms-of-performance-or-do-we-get-any-additional-features\n",
    "\n",
    "\n",
    "**Хороший код по titanic**\n",
    "\n",
    "https://www.kaggle.com/competitions/titanic/data\n",
    "\n",
    "https://www.kaggle.com/code/brendan45774/titanic-top-solution\n",
    "\n",
    "https://www.kaggle.com/code/ash316/eda-to-prediction-dietanic\n",
    "\n",
    "https://www.kaggle.com/code/gunesevitan/titanic-advanced-feature-engineering-tutorial"
   ]
  },
  {
   "cell_type": "code",
   "execution_count": null,
   "id": "603df100-0550-45a0-9d6a-d37f21f3ce8d",
   "metadata": {},
   "outputs": [],
   "source": []
  }
 ],
 "metadata": {
  "kernelspec": {
   "display_name": "Python 3 (ipykernel)",
   "language": "python",
   "name": "python3"
  },
  "language_info": {
   "codemirror_mode": {
    "name": "ipython",
    "version": 3
   },
   "file_extension": ".py",
   "mimetype": "text/x-python",
   "name": "python",
   "nbconvert_exporter": "python",
   "pygments_lexer": "ipython3",
   "version": "3.10.11"
  }
 },
 "nbformat": 4,
 "nbformat_minor": 5
}
